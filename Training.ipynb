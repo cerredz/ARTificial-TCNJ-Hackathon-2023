{
 "cells": [
  {
   "cell_type": "code",
   "execution_count": 40,
   "id": "b5cde3c3",
   "metadata": {},
   "outputs": [],
   "source": [
    "import torch\n",
    "import torch.nn as nn\n",
    "import torch.optim as optim\n",
    "import torch.nn.functional as F\n",
    "import torchvision.transforms as transforms\n",
    "import torchvision.models as models\n",
    "from torchvision.utils import save_image\n",
    "from PIL import Image"
   ]
  },
  {
   "cell_type": "code",
   "execution_count": 41,
   "id": "d22e6ee2",
   "metadata": {},
   "outputs": [],
   "source": [
    "class VGG19(nn.Module):\n",
    "    def __init__(self):\n",
    "        super().__init__()\n",
    "        self.model = models.vgg19(weights='IMAGENET1K_V1')\n",
    "    def forward(self, x):\n",
    "        features = []\n",
    "        layers = [0, 5, 10, 19, 28]\n",
    "        for i,layer in enumerate(self.model.features[:30]):\n",
    "            x = layer(x)\n",
    "            if i in layers:\n",
    "                features.append(x)\n",
    "        return features"
   ]
  },
  {
   "cell_type": "code",
   "execution_count": 42,
   "id": "efe28923",
   "metadata": {},
   "outputs": [],
   "source": [
    "def Gram(A):\n",
    "    B = A.view(A.shape[1],-1)\n",
    "    return torch.mm(B, B.t())"
   ]
  },
  {
   "cell_type": "code",
   "execution_count": 43,
   "id": "784c518d",
   "metadata": {},
   "outputs": [],
   "source": [
    "def img_to_tensor(url):\n",
    "    transform = transforms.Compose([\n",
    "        transforms.Resize(size=(size,size)),\n",
    "        transforms.ToTensor()\n",
    "    ])\n",
    "    return transform(Image.open(url)).unsqueeze(0)"
   ]
  },
  {
   "cell_type": "code",
   "execution_count": 44,
   "id": "61efddb5",
   "metadata": {},
   "outputs": [],
   "source": [
    "def tensor_to_img(generated):\n",
    "    tensor = generated.clone()\n",
    "    tensor = tensor.squeeze()\n",
    "    save_image(tensor, 'generated.png')"
   ]
  },
  {
   "cell_type": "code",
   "execution_count": 45,
   "id": "d23d6ba2",
   "metadata": {},
   "outputs": [],
   "source": [
    "def rgba_to_rgb(url):\n",
    "    img = Image.open(url)\n",
    "    img2 = img.convert('RGB')\n",
    "    img2.save(url)"
   ]
  },
  {
   "cell_type": "code",
   "execution_count": 46,
   "id": "18a4c8bf",
   "metadata": {},
   "outputs": [],
   "source": [
    "class NSTLoss(nn.Module):\n",
    "    def __init__(self):\n",
    "        super().__init__()\n",
    "        \n",
    "    def forward(self, C, S, G):\n",
    "        content_loss = torch.mean((C[3]-G[3]) ** 2)\n",
    "        style_loss = 0\n",
    "        for i in range(5):\n",
    "            G_gram = Gram(G[i])\n",
    "            S_gram = Gram(S[i])\n",
    "            style_loss += lambd[i] * (torch.norm(S_gram-G_gram, p = 'fro'))\n",
    "        loss = (alpha * content_loss) + (beta * style_loss)\n",
    "        return loss"
   ]
  },
  {
   "cell_type": "code",
   "execution_count": 47,
   "id": "f78b042d",
   "metadata": {},
   "outputs": [],
   "source": [
    "url1 = './photos/tcnj.png'\n",
    "url2 = './photos/snight.png'"
   ]
  },
  {
   "cell_type": "code",
   "execution_count": 48,
   "id": "e230dd8f",
   "metadata": {},
   "outputs": [
    {
     "name": "stdout",
     "output_type": "stream",
     "text": [
      "Epoch: 0 | Loss: 702503.0\n",
      "Epoch: 250 | Loss: 43222.3359375\n",
      "Epoch: 500 | Loss: 31008.25\n"
     ]
    }
   ],
   "source": [
    "model = VGG19().eval()\n",
    "size = 255\n",
    "content = img_to_tensor(url1)\n",
    "style = img_to_tensor(url2)\n",
    "generated = content.clone().requires_grad_(True)\n",
    "\n",
    "content_feat = model(content)\n",
    "content_feat = [feat.detach() for feat in content_feat]\n",
    "style_feat = model(style)\n",
    "style_feat = [feat.detach() for feat in style_feat]\n",
    "\n",
    "lr = 0.003\n",
    "alpha = 100\n",
    "beta = 10\n",
    "lambd = [0 for i in range(5)]\n",
    "lambd[0] = 1\n",
    "lambd[1] = .8\n",
    "lambd[2] = .7\n",
    "lambd[3] = .2\n",
    "lambd[4] = .1\n",
    "criterion = NSTLoss()\n",
    "optimizer = optim.Adam([generated], lr=lr)\n",
    "\n",
    "epochs = 501\n",
    "\n",
    "for epoch in range(epochs):\n",
    "    generated_feat = model(generated)\n",
    "    optimizer.zero_grad()\n",
    "    loss = criterion(content_feat, style_feat, generated_feat)\n",
    "    loss.backward()\n",
    "    optimizer.step()\n",
    "\n",
    "    if epoch % 250 == 0:\n",
    "        print(f'Epoch: {epoch} | Loss: {loss}')\n",
    "        tensor_to_img(generated)"
   ]
  },
  {
   "cell_type": "code",
   "execution_count": null,
   "id": "a1bf8913",
   "metadata": {},
   "outputs": [],
   "source": []
  },
  {
   "cell_type": "code",
   "execution_count": null,
   "id": "fdfb43d9",
   "metadata": {},
   "outputs": [],
   "source": []
  }
 ],
 "metadata": {
  "kernelspec": {
   "display_name": "Python 3 (ipykernel)",
   "language": "python",
   "name": "python3"
  },
  "language_info": {
   "codemirror_mode": {
    "name": "ipython",
    "version": 3
   },
   "file_extension": ".py",
   "mimetype": "text/x-python",
   "name": "python",
   "nbconvert_exporter": "python",
   "pygments_lexer": "ipython3",
   "version": "3.10.7"
  }
 },
 "nbformat": 4,
 "nbformat_minor": 5
}
